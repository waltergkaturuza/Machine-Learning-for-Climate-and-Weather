{
  "cells": [
    {
      "cell_type": "markdown",
      "metadata": {
        "id": "view-in-github",
        "colab_type": "text"
      },
      "source": [
        "<a href=\"https://colab.research.google.com/github/waltergkaturuza/Machine-Learning-for-Climate-and-Weather/blob/main/tier_3/operational_meteorology/resource_optimisation_genetic_algorithms.ipynb\" target=\"_parent\"><img src=\"https://colab.research.google.com/assets/colab-badge.svg\" alt=\"Open In Colab\"/></a>"
      ]
    },
    {
      "cell_type": "markdown",
      "metadata": {
        "id": "ehZSNVwLJN30"
      },
      "source": [
        "# Resource optimisation using genetic algorithms\n",
        "\n",
        "This notebook illustrates the use of [genetic algorithms](https://en.wikipedia.org/wiki/Genetic_algorithm) (GA) to optimise the use of resources. The ECMWF [Autumn 2022 ECMWF newsletter No. 173](https://www.ecmwf.int/sites/default/files/elibrary/2022/20502-newsletter-no-173-autumn-2022.pdf) (on page 32) describes how they are used to optimise the placement of virtual machines in a cloud environment.\n",
        "\n",
        "As it is not possible for everyone to play with the example given in the newsletter, this notebook  considers an alternate resource optimisation problem using GA: the [Nurse Scheduling Problem](https://en.wikipedia.org/wiki/Nurse_scheduling_problem) (NSP). The NSP consists in organising the working shifts of a team of nurses in a hospital, according to a series of constraints such as _\"nurses must not do three shifts in the same day\"_, _\"nurses must not work a morning shift after a night shift\"_ or _\"these two nurses should not work on the same shift\"_.\n",
        "\n",
        "The notebook make use of the excellent [PyGAD](https://pygad.readthedocs.io/en/latest/) python package."
      ]
    },
    {
      "cell_type": "markdown",
      "metadata": {
        "id": "P3D80CscJN36"
      },
      "source": [
        "\n",
        "# Introduction\n",
        "\n",
        "Genetic algorithms are used to search for optimal solutions by simulating natural selection. The principle is to start with a *population* of possible solutions (*individuals*). Each solution is represented by a vector (*chromosome*) of symbols or numbers (*genes*). The steps are as follows:\n",
        "\n",
        "1. Initialisation: a population of several individuals is randomly generated. The more individuals, the more genetic diversity and the more likely that a solution is present in the population. \n",
        "\n",
        "1. Fitness Evaluation: in the case of natural selection, the fitest individuals will survive. In this step, we will compute a fitness for each individual in the population, using a fitness function. \n",
        "\n",
        "1. Selection: In this step, the fitest individuals are identified and selected. \n",
        "\n",
        "1. Crossover: the individuals selected in the previous step will \"mate\", this means that the genes of the fitest individuals used to create new individuals, that will therefore inherit a mix of genes from their parents.\n",
        "\n",
        "1. Mutation: because the optimum solution may not be present in the initial population, even by mixing genes, it is necessary to introduce some additional genetic diversity. This is achieved by randomly changing the genes of some individuals.\n",
        "\n",
        "1. Replacement: in order to keep the size of the population constant, the individuals with the lowest fitness will are replaced with the new offspring created during the crossover step.\n",
        "\n",
        "1. Termination: steps 2 to 7 are repeated until the maximum fitness in the population reaches a desired level. In this case, the algorithm stops and return the fitest individal as the best solution to the problem.\n",
        "\n",
        "## Crossover\n",
        "\n",
        "<pre>\n",
        "             +-----+-----+-----+-----+-----+-----+-----+\n",
        "Parent 1:    |  <span style=\"color:blue\"><b>a</b></span>  |  <span style=\"color:blue\"><b>b</b></span>  |  <span style=\"color:blue\"><b>c</b></span>  |  <span style=\"color:blue\"><b>b</b></span>  |  <span style=\"color:blue\"><b>d</b></span>  |  <span style=\"color:blue\"><b>c</b></span>  |  <span style=\"color:blue\"><b>a</b></span>  |\n",
        "             +-----+-----+-----+-----+-----+-----+-----+\n",
        "                                                             Generation N\n",
        "             +-----+-----+-----+-----+-----+-----+-----+\n",
        "Parent 2:    |  <span style=\"color:red\"><b>a</b></span>  |  <span style=\"color:red\"><b>c</b></span>  |  <span style=\"color:red\"><b>c</b></span>  |  <span style=\"color:red\"><b>b</b></span>  |  <span style=\"color:red\"><b>d</b></span>  |  <span style=\"color:red\"><b>a</b></span>  |  <span style=\"color:red\"><b>d</b></span>  |\n",
        "             +-----+-----+-----+-----+-----+-----+-----+\n",
        "\n",
        "                                  |\n",
        "                                  |\n",
        "                                  V\n",
        "\n",
        "             +-----+-----+-----+-----+-----+-----+-----+\n",
        "Offspring 1: |  <span style=\"color:blue\"><b>a</b></span>  |  <span style=\"color:blue\"><b>b</b></span>  |  <span style=\"color:blue\"><b>c</b></span>  |  <span style=\"color:blue\"><b>b</b></span>  |  <span style=\"color:red\"><b>d</b></span>  |  <span style=\"color:red\"><b>a</b></span>  |  <span style=\"color:red\"><b>d</b></span>  |\n",
        "             +-----+-----+-----+-----+-----+-----+-----+\n",
        "                                                             Generation N + 1\n",
        "             +-----+-----+-----+-----+-----+-----+-----+\n",
        "Offspring 2: |  <span style=\"color:red\"><b>a</b></span>  |  <span style=\"color:red\"><b>c</b></span>  |  <span style=\"color:red\"><b>c</b></span>  |  <span style=\"color:red\"><b>b</b></span>  |  <span style=\"color:blue\"><b>d</b></span>  |  <span style=\"color:blue\"><b>c</b></span>  |  <span style=\"color:blue\"><b>a</b></span>  |\n",
        "             +-----+-----+-----+-----+-----+-----+-----+\n",
        "\n",
        "</pre>\n",
        "\n",
        "## Mutation\n",
        "\n",
        "<pre>\n",
        "             +-----+-----+-----+-----+-----+-----+-----+\n",
        "Gene 1:      |  <span style=\"color:blue\"><b>a</b></span>  |  <span style=\"color:blue\"><b>b</b></span>  |  <span style=\"color:blue\"><b>c</b></span>  |  <span style=\"color:blue\"><b>b</b></span>  |  <span style=\"color:blue\"><b>d</b></span>  |  <span style=\"color:blue\"><b>c</b></span>  |  <span style=\"color:blue\"><b>a</b></span>  |     Generation N\n",
        "             +-----+-----+-----+-----+-----+-----+-----+\n",
        "\n",
        "\n",
        "                                  |\n",
        "                                  |\n",
        "                                  V\n",
        "\n",
        "             +-----+-----+-----+-----+-----+-----+-----+\n",
        "Gene 1:      |  <span style=\"color:blue\"><b>a</b></span>  |  <span style=\"color:blue\"><b>b</b></span>  |  <span style=\"color:blue\"><b>c</b></span>  |  <span style=\"color:red\"><b>x</b></span>  |  <span style=\"color:blue\"><b>d</b></span>  |  <span style=\"color:blue\"><b>c</b></span>  |  <span style=\"color:blue\"><b>a</b></span>  |     Generation N + 1\n",
        "             +-----+-----+-----+-----+-----+-----+-----+\n",
        "\n",
        "\n",
        "</pre>"
      ]
    },
    {
      "cell_type": "markdown",
      "metadata": {
        "id": "GJ4qCfwyJN39"
      },
      "source": [
        "# Problem\n",
        "\n",
        "In this notebook we will try to solve the _nurse scheduling problem_ with the following constraints:\n",
        "\n",
        "1. Make sure that a nurse is not allocated two or more shifts at the same time\n",
        "1. Make sure that a nurse is not given three shifts in the same day\n",
        "1. Make sure that a nurse does not work a morning shift after a night shift\n",
        "1. Nurses that dislike each other should not be on the same shift\n",
        "1. All nurses must have an equilateral number of shifts"
      ]
    },
    {
      "cell_type": "markdown",
      "metadata": {
        "id": "4z6auFvbJN3-"
      },
      "source": [
        "## Setup"
      ]
    },
    {
      "cell_type": "markdown",
      "metadata": {
        "id": "LVaSza0SJN3-"
      },
      "source": [
        "This link enables you to run the tutorial in Colab [![Open in Colab](https://colab.research.google.com/assets/colab-badge.svg)](https://colab.research.google.com/github/ecmwf-projects/mooc-machine-learning-weather-climate/blob/main/tier_3/operational_meteorology/resource_optimisation_genetic_algorithms.ipynb)"
      ]
    },
    {
      "cell_type": "markdown",
      "metadata": {
        "id": "40xmfz4qJN3-"
      },
      "source": [
        "### Control Jupyter\n",
        "\n",
        "The code below will tell Jupyter not to create scrolling areas for long outputs. This is optional."
      ]
    },
    {
      "cell_type": "code",
      "execution_count": 1,
      "metadata": {
        "colab": {
          "base_uri": "https://localhost:8080/",
          "height": 17
        },
        "id": "r-DpC2X2JN3_",
        "outputId": "b771af6d-99b4-4690-9047-2da2468d4479"
      },
      "outputs": [
        {
          "output_type": "display_data",
          "data": {
            "text/plain": [
              "<IPython.core.display.Javascript object>"
            ],
            "application/javascript": [
              "IPython.OutputArea.prototype._should_scroll = function(lines) {\n",
              "    return false;\n",
              "}\n"
            ]
          },
          "metadata": {}
        }
      ],
      "source": [
        "%%javascript\n",
        "IPython.OutputArea.prototype._should_scroll = function(lines) {\n",
        "    return false;\n",
        "}"
      ]
    },
    {
      "cell_type": "markdown",
      "metadata": {
        "id": "u_3oaZQ_JN3_"
      },
      "source": [
        "### Import packages\n",
        "\n",
        "Next, we import the necessary Python packages. Please make sure they are installed on your computer by running:\n",
        "\n",
        "```bash\n",
        "pip3 install numpy pygad tqdm\n",
        "```"
      ]
    },
    {
      "cell_type": "code",
      "execution_count": 2,
      "metadata": {
        "colab": {
          "base_uri": "https://localhost:8080/"
        },
        "id": "qQm-KcZkJN3_",
        "outputId": "099f0e79-cb4c-46c3-b6d1-578cfeab69ce"
      },
      "outputs": [
        {
          "output_type": "stream",
          "name": "stdout",
          "text": [
            "Looking in indexes: https://pypi.org/simple, https://us-python.pkg.dev/colab-wheels/public/simple/\n",
            "Requirement already satisfied: numpy in /usr/local/lib/python3.9/dist-packages (1.22.4)\n",
            "Collecting pygad\n",
            "  Downloading pygad-3.0.1-py3-none-any.whl (67 kB)\n",
            "\u001b[2K     \u001b[90m━━━━━━━━━━━━━━━━━━━━━━━━━━━━━━━━━━━━━━━━\u001b[0m \u001b[32m68.0/68.0 kB\u001b[0m \u001b[31m1.9 MB/s\u001b[0m eta \u001b[36m0:00:00\u001b[0m\n",
            "\u001b[?25hRequirement already satisfied: tqdm in /usr/local/lib/python3.9/dist-packages (4.65.0)\n",
            "Requirement already satisfied: matplotlib in /usr/local/lib/python3.9/dist-packages (from pygad) (3.7.1)\n",
            "Requirement already satisfied: cloudpickle in /usr/local/lib/python3.9/dist-packages (from pygad) (2.2.1)\n",
            "Requirement already satisfied: fonttools>=4.22.0 in /usr/local/lib/python3.9/dist-packages (from matplotlib->pygad) (4.39.3)\n",
            "Requirement already satisfied: importlib-resources>=3.2.0 in /usr/local/lib/python3.9/dist-packages (from matplotlib->pygad) (5.12.0)\n",
            "Requirement already satisfied: contourpy>=1.0.1 in /usr/local/lib/python3.9/dist-packages (from matplotlib->pygad) (1.0.7)\n",
            "Requirement already satisfied: cycler>=0.10 in /usr/local/lib/python3.9/dist-packages (from matplotlib->pygad) (0.11.0)\n",
            "Requirement already satisfied: packaging>=20.0 in /usr/local/lib/python3.9/dist-packages (from matplotlib->pygad) (23.1)\n",
            "Requirement already satisfied: pillow>=6.2.0 in /usr/local/lib/python3.9/dist-packages (from matplotlib->pygad) (8.4.0)\n",
            "Requirement already satisfied: pyparsing>=2.3.1 in /usr/local/lib/python3.9/dist-packages (from matplotlib->pygad) (3.0.9)\n",
            "Requirement already satisfied: python-dateutil>=2.7 in /usr/local/lib/python3.9/dist-packages (from matplotlib->pygad) (2.8.2)\n",
            "Requirement already satisfied: kiwisolver>=1.0.1 in /usr/local/lib/python3.9/dist-packages (from matplotlib->pygad) (1.4.4)\n",
            "Requirement already satisfied: zipp>=3.1.0 in /usr/local/lib/python3.9/dist-packages (from importlib-resources>=3.2.0->matplotlib->pygad) (3.15.0)\n",
            "Requirement already satisfied: six>=1.5 in /usr/local/lib/python3.9/dist-packages (from python-dateutil>=2.7->matplotlib->pygad) (1.16.0)\n",
            "Installing collected packages: pygad\n",
            "Successfully installed pygad-3.0.1\n"
          ]
        }
      ],
      "source": [
        "!pip3 install numpy pygad tqdm"
      ]
    },
    {
      "cell_type": "code",
      "execution_count": 3,
      "metadata": {
        "id": "CPCDrApoJN4A"
      },
      "outputs": [],
      "source": [
        "import random\n",
        "from collections import defaultdict\n",
        "\n",
        "import numpy as np\n",
        "import pygad\n",
        "from tqdm import tqdm\n"
      ]
    },
    {
      "cell_type": "markdown",
      "metadata": {
        "id": "R599oS0OJN4A"
      },
      "source": [
        "### Initialise\n",
        "\n",
        "The code below ensures that all successive runs of this notebook produce the same results by seeding Numpy's random generator. This cell can be deleted."
      ]
    },
    {
      "cell_type": "code",
      "execution_count": 4,
      "metadata": {
        "id": "5BmoOMtiJN4A"
      },
      "outputs": [],
      "source": [
        "np.random.seed(42)\n"
      ]
    },
    {
      "cell_type": "markdown",
      "metadata": {
        "id": "fk1SznUWJN4A"
      },
      "source": [
        "### Settings"
      ]
    },
    {
      "cell_type": "code",
      "execution_count": 5,
      "metadata": {
        "id": "3qQ16IR0JN4A"
      },
      "outputs": [],
      "source": [
        "# Constants representing the problem\n",
        "\n",
        "SHIFTS = [\"morning\", \"afternoon\", \"night\"]\n",
        "\n",
        "number_of_nurses = 24\n",
        "number_of_nurses_per_room = 2\n",
        "number_of_bedrooms = 5\n",
        "number_of_days = 7\n",
        "number_of_shifts = len(SHIFTS)\n",
        "\n",
        "\n",
        "# We create a set of pairs of nurses that do not want to work together\n",
        "# To make things simple, we assume that 'odd' nurses do not want to work \n",
        "# with 'even' nurses. This will also allow us to easily check the solutions\n",
        "\n",
        "dislike_working_together = set()\n",
        "for n1 in range(number_of_nurses):\n",
        "    for n2 in range(n1,number_of_nurses):\n",
        "        if (n1 % 2) != (n2 % 2):\n",
        "            dislike_working_together.add((n1, n2))\n"
      ]
    },
    {
      "cell_type": "markdown",
      "metadata": {
        "id": "6zfM4CvrJN4A"
      },
      "source": [
        "### Structure of a chromosome\n",
        "\n",
        "We need to find a chromosome that can represent the problem we are trying to solve. As explained above, a _chromosome_ is a vector of _genes_, that represents a posible solution. To solve the NSP, we design the chromosoms as follows:\n",
        "\n",
        "* Each `gene` represents a nurse. \n",
        "* The length of a chromosome is  \n",
        "`number_of_days * number_of_shifts * number_of_bedrooms * number_of_nurses_per_room` and can be seen as a flattened four-dimensions structure:\n",
        "\n",
        "\n",
        "```\n",
        "1 <-------------------------------- Day 0 ------------------------------> <------- Day 1...\n",
        "2 <------------- morning ------------> <---------- afternoon -----------> <----- night ...\n",
        "3 <----R0---> <----R1---> <----R2---> <----R3---> <----R4---> <----R5---> <----R6 ...\n",
        "4 <-a-> <-b-> <-a-> <-b-> <-a-> <-b-> <-a-> <-b-> <-a-> <-b-> <-a-> <-b-> <-a-> ...\n",
        "\n",
        " +-----+-----+-----+-----+-----+-----+-----+-----+-----+-----+-----+-----+-----+---\n",
        " |  2  |  0  |  9  |  6  |  1  |  1  |  6  |  0  |  8  |  6  |  5  |  9  |  3  | ...\n",
        " +-----+-----+-----+-----+-----+-----+-----+-----+-----+-----+-----+-----+-----+---\n",
        "\n",
        "```\n",
        "\n",
        "* The first dimension represents the calendar days.\n",
        "* The second dimension represents the three possible shifts: _morning_, _afternoon_ and _night_.\n",
        "* The third dimension represents the hospital bedrooms.\n",
        "* The fourth dimension represents the two nurses _a_ and _b_ in each bedrooms.\n",
        "\n",
        "There are many ways to encode solutions into chromosomes, for example having the nurse as a dimension and the bedrooms as genes. We select that particular one as it does not require a special gene encoding for nurses not working. Is is also simpler to check for valid solutions: the same nurse cannot be allocated to the same room during a given shift.\n",
        "\n"
      ]
    },
    {
      "cell_type": "code",
      "execution_count": 6,
      "metadata": {
        "id": "VCM-mhzQJN4A"
      },
      "outputs": [],
      "source": [
        "num_genes = (\n",
        "    number_of_days* number_of_shifts* number_of_bedrooms* number_of_nurses_per_room\n",
        ")\n"
      ]
    },
    {
      "cell_type": "markdown",
      "metadata": {
        "id": "moJBRn-XJN4A"
      },
      "source": [
        "## Cost function\n",
        "\n",
        "This function establish the \"cost\" of a solution.\n",
        "\n",
        "As described in the introduction, we need to define a _fitness_ functionm, to assess which are the best solution. In the case of the NSP, tt is actually easier to compute a _cost_ function, which has a higher value if the solution is worse. Then, we simply defined `fiteness(x) = -cost(x)`\n",
        "\n",
        "Hard constraints are:\n",
        "\n",
        "* H1 - Make sure that a nurse is not allocated two or more shifts at the same time\n",
        "* H2 - Make sure that a nurse is not given three shifts in the same day\n",
        "* H3 - Make sure that a nurse does not work a morning shift after a night shift\n",
        "\n",
        "Soft constraints are:\n",
        "\n",
        "* S1 - Nurses that dislike each other should not be on the same shift\n",
        "* S2 - All nurses must have an equilateral number of shifts\n",
        "\n",
        "\n",
        "When writing this function, emphasis has been put on readability over performance."
      ]
    },
    {
      "cell_type": "code",
      "execution_count": 7,
      "metadata": {
        "id": "3d2xwr6hJN4A"
      },
      "outputs": [],
      "source": [
        "def cost(solution, report=False):\n",
        "\n",
        "    # PyGAD represents chromosoms as  1D vectors\n",
        "    # So we reshape them do recover our structure\n",
        "    solution = solution.reshape(\n",
        "        (\n",
        "            number_of_days,\n",
        "            number_of_shifts,\n",
        "            number_of_bedrooms,\n",
        "            number_of_nurses_per_room,\n",
        "        )\n",
        "    )\n",
        "\n",
        "    # Counters for eacj constrainsf\n",
        "\n",
        "    double_bookings = 0\n",
        "    all_day_shifts = 0\n",
        "    morning_after_night_shift = 0\n",
        "    dislike = 0\n",
        "    work_spread = 0\n",
        "\n",
        "    nurse_shifts = defaultdict(list) # Collect all shifts/rooms per nurse\n",
        "    work_together = set() # Collect information about who has a shift with whom\n",
        "\n",
        "    \n",
        "    for day in range(number_of_days):\n",
        "        for shift in range(number_of_shifts):\n",
        "            nurses = set() # Keep track of nurses  seen for that shift\n",
        "            for bedroom in range(number_of_bedrooms):\n",
        "                together = [] # Keep track of nurses working in that room\n",
        "                for n in range(number_of_nurses_per_room):\n",
        "                    nurse = solution[day, shift, bedroom, n]\n",
        "                    if nurse in nurses:\n",
        "                        double_bookings += 1 # Count double bookings\n",
        "                    nurses.add(nurse) # Mark this nurse as busy\n",
        "                    together.append(nurse) # Collect who works in that room for that shift\n",
        "\n",
        "                    nurse_shifts[nurse].append((day, shift)) # Collect all shifts per nurse\n",
        "\n",
        "                work_together.add(tuple(sorted(together))) # Collect information about who has a shift with whom\n",
        "\n",
        "    # For each nurse, check for consecutive shifts\n",
        "    shifts_per_nurse = []\n",
        "    for nurse, shifts in nurse_shifts.items():\n",
        "        for (day1, shift1), (day2, shift2), (day3, shift3) in zip(\n",
        "            shifts, shifts[1:], shifts[2:]\n",
        "        ):\n",
        "            # Two shifts in a raw on the same day\n",
        "            if day1 == day2 and day2 == day3:\n",
        "                all_day_shifts += 1\n",
        "\n",
        "            # A morning shift following a night shift\n",
        "            if day1 + 1 == day2 and shift1 == 2 and shift2 == 0:\n",
        "                morning_after_night_shift += 1\n",
        "\n",
        "        shifts_per_nurse.append(len(shifts)) # Count total number of shifts per nurse\n",
        "        \n",
        "    # If difference bewteen the nurse doing the most shifts and \n",
        "    # the  nurse doing the least shifts is more than 1\n",
        "    if max(shifts_per_nurse) - min(shifts_per_nurse) > 1:\n",
        "        # We compute by how much each nurse's number of shifts\n",
        "        # is different from the average. \n",
        "        average_shifts = sum(shifts_per_nurse) / len(shifts_per_nurse)\n",
        "        for w in shifts_per_nurse:\n",
        "            work_spread += abs(w - average_shifts)\n",
        "\n",
        "\n",
        "    # Then we count how many pairs of nurses that do not like each\n",
        "    # other are sharing the same shift\n",
        "    for n1, n2 in work_together:\n",
        "        if (n1, n2) in dislike_working_together:\n",
        "            dislike += 1\n",
        "            \n",
        "    if report:\n",
        "        print(\"Double bookings:\", double_bookings)\n",
        "        print(\"All-day shifts:\", all_day_shifts)\n",
        "        print(\"Morning shift after night shift:\", morning_after_night_shift)\n",
        "        print(\"Dislike:\", dislike)\n",
        "        print(\"Work spread:\", work_spread)\n",
        "        print(\"Shifts per nurse:\", shifts_per_nurse)\n",
        "\n",
        "    # We compute the cost\n",
        "    hard_constraints = double_bookings + all_day_shifts + morning_after_night_shift\n",
        "    soft_constraints = dislike * 100 + work_spread\n",
        "\n",
        "    return hard_constraints * 10000 + soft_constraints\n"
      ]
    },
    {
      "cell_type": "code",
      "execution_count": 8,
      "metadata": {
        "id": "6r2sS2g2JN4B"
      },
      "outputs": [],
      "source": [
        "# Our fitness function is simply the opposite of the cost function\n",
        "\n",
        "def fitness_func(solution, index):\n",
        "    return -cost(solution)\n"
      ]
    },
    {
      "cell_type": "code",
      "execution_count": 9,
      "metadata": {
        "id": "4QZCO4n1JN4B"
      },
      "outputs": [],
      "source": [
        "num_generations = 3000\n",
        "pop_size = 100\n"
      ]
    },
    {
      "cell_type": "markdown",
      "metadata": {
        "id": "h1qOnaaWJN4B"
      },
      "source": [
        "### Main loop\n",
        "\n",
        "Depending on the computer you are running "
      ]
    },
    {
      "cell_type": "code",
      "execution_count": 13,
      "metadata": {
        "colab": {
          "base_uri": "https://localhost:8080/",
          "height": 807
        },
        "id": "dxMMS8XTJN4B",
        "outputId": "d8c9ca72-5c12-4135-8535-bf1afd49e9da"
      },
      "outputs": [
        {
          "output_type": "stream",
          "name": "stderr",
          "text": [
            "\r  0%|          | 0/3000 [00:00<?, ?it/s]In PyGAD 2.20.0, the fitness function must accept 3 parameters:\n",
            "1) The instance of the 'pygad.GA' class.\n",
            "2) A solution to calculate its fitness value.\n",
            "3) The solution's index within the population.\n",
            "\n",
            "The passed fitness function named 'fitness_func' accepts 2 parameter(s).\n",
            "ERROR:pygad.pygad:In PyGAD 2.20.0, the fitness function must accept 3 parameters:\n",
            "1) The instance of the 'pygad.GA' class.\n",
            "2) A solution to calculate its fitness value.\n",
            "3) The solution's index within the population.\n",
            "\n",
            "The passed fitness function named 'fitness_func' accepts 2 parameter(s).\n",
            "  0%|          | 0/3000 [00:00<?, ?it/s]\n"
          ]
        },
        {
          "output_type": "error",
          "ename": "ValueError",
          "evalue": "ignored",
          "traceback": [
            "\u001b[0;31m---------------------------------------------------------------------------\u001b[0m",
            "\u001b[0;31mValueError\u001b[0m                                Traceback (most recent call last)",
            "\u001b[0;32m<ipython-input-13-3560855a2a44>\u001b[0m in \u001b[0;36m<cell line: 1>\u001b[0;34m()\u001b[0m\n\u001b[1;32m      1\u001b[0m \u001b[0;32mwith\u001b[0m \u001b[0mtqdm\u001b[0m\u001b[0;34m(\u001b[0m\u001b[0mtotal\u001b[0m\u001b[0;34m=\u001b[0m\u001b[0mnum_generations\u001b[0m\u001b[0;34m)\u001b[0m \u001b[0;32mas\u001b[0m \u001b[0mpbar\u001b[0m\u001b[0;34m:\u001b[0m\u001b[0;34m\u001b[0m\u001b[0;34m\u001b[0m\u001b[0m\n\u001b[0;32m----> 2\u001b[0;31m     ga_instance = pygad.GA(\n\u001b[0m\u001b[1;32m      3\u001b[0m         \u001b[0mnum_generations\u001b[0m\u001b[0;34m=\u001b[0m\u001b[0mnum_generations\u001b[0m\u001b[0;34m,\u001b[0m \u001b[0;31m# Number of generations to run the algorithm for\u001b[0m\u001b[0;34m\u001b[0m\u001b[0;34m\u001b[0m\u001b[0m\n\u001b[1;32m      4\u001b[0m         \u001b[0mfitness_func\u001b[0m\u001b[0;34m=\u001b[0m\u001b[0mfitness_func\u001b[0m\u001b[0;34m,\u001b[0m \u001b[0;31m# The fitness function\u001b[0m\u001b[0;34m\u001b[0m\u001b[0;34m\u001b[0m\u001b[0m\n\u001b[1;32m      5\u001b[0m         \u001b[0mnum_genes\u001b[0m\u001b[0;34m=\u001b[0m\u001b[0mnum_genes\u001b[0m\u001b[0;34m,\u001b[0m \u001b[0;31m# The number of genes\u001b[0m\u001b[0;34m\u001b[0m\u001b[0;34m\u001b[0m\u001b[0m\n",
            "\u001b[0;32m/usr/local/lib/python3.9/dist-packages/pygad/pygad.py\u001b[0m in \u001b[0;36m__init__\u001b[0;34m(self, num_generations, num_parents_mating, fitness_func, fitness_batch_size, initial_population, sol_per_pop, num_genes, init_range_low, init_range_high, gene_type, parent_selection_type, keep_parents, keep_elitism, K_tournament, crossover_type, crossover_probability, mutation_type, mutation_probability, mutation_by_replacement, mutation_percent_genes, mutation_num_genes, random_mutation_min_val, random_mutation_max_val, gene_space, allow_duplicate_genes, on_start, on_fitness, on_parents, on_crossover, on_mutation, on_generation, on_stop, delay_after_gen, save_best_solutions, save_solutions, suppress_warnings, stop_criteria, parallel_processing, random_seed, logger)\u001b[0m\n\u001b[1;32m    849\u001b[0m                 \u001b[0mself\u001b[0m\u001b[0;34m.\u001b[0m\u001b[0mvalid_parameters\u001b[0m \u001b[0;34m=\u001b[0m \u001b[0;32mFalse\u001b[0m\u001b[0;34m\u001b[0m\u001b[0;34m\u001b[0m\u001b[0m\n\u001b[1;32m    850\u001b[0m                 \u001b[0mself\u001b[0m\u001b[0;34m.\u001b[0m\u001b[0mlogger\u001b[0m\u001b[0;34m.\u001b[0m\u001b[0merror\u001b[0m\u001b[0;34m(\u001b[0m\u001b[0;34m\"In PyGAD 2.20.0, the fitness function must accept 3 parameters:\\n1) The instance of the 'pygad.GA' class.\\n2) A solution to calculate its fitness value.\\n3) The solution's index within the population.\\n\\nThe passed fitness function named '{funcname}' accepts {argcount} parameter(s).\"\u001b[0m\u001b[0;34m.\u001b[0m\u001b[0mformat\u001b[0m\u001b[0;34m(\u001b[0m\u001b[0mfuncname\u001b[0m\u001b[0;34m=\u001b[0m\u001b[0mfitness_func\u001b[0m\u001b[0;34m.\u001b[0m\u001b[0m__code__\u001b[0m\u001b[0;34m.\u001b[0m\u001b[0mco_name\u001b[0m\u001b[0;34m,\u001b[0m \u001b[0margcount\u001b[0m\u001b[0;34m=\u001b[0m\u001b[0mfitness_func\u001b[0m\u001b[0;34m.\u001b[0m\u001b[0m__code__\u001b[0m\u001b[0;34m.\u001b[0m\u001b[0mco_argcount\u001b[0m\u001b[0;34m)\u001b[0m\u001b[0;34m)\u001b[0m\u001b[0;34m\u001b[0m\u001b[0;34m\u001b[0m\u001b[0m\n\u001b[0;32m--> 851\u001b[0;31m                 \u001b[0;32mraise\u001b[0m \u001b[0mValueError\u001b[0m\u001b[0;34m(\u001b[0m\u001b[0;34m\"In PyGAD 2.20.0, the fitness function must accept 3 parameters:\\n1) The instance of the 'pygad.GA' class.\\n2) A solution to calculate its fitness value.\\n3) The solution's index within the population.\\n\\nThe passed fitness function named '{funcname}' accepts {argcount} parameter(s).\"\u001b[0m\u001b[0;34m.\u001b[0m\u001b[0mformat\u001b[0m\u001b[0;34m(\u001b[0m\u001b[0mfuncname\u001b[0m\u001b[0;34m=\u001b[0m\u001b[0mfitness_func\u001b[0m\u001b[0;34m.\u001b[0m\u001b[0m__code__\u001b[0m\u001b[0;34m.\u001b[0m\u001b[0mco_name\u001b[0m\u001b[0;34m,\u001b[0m \u001b[0margcount\u001b[0m\u001b[0;34m=\u001b[0m\u001b[0mfitness_func\u001b[0m\u001b[0;34m.\u001b[0m\u001b[0m__code__\u001b[0m\u001b[0;34m.\u001b[0m\u001b[0mco_argcount\u001b[0m\u001b[0;34m)\u001b[0m\u001b[0;34m)\u001b[0m\u001b[0;34m\u001b[0m\u001b[0;34m\u001b[0m\u001b[0m\n\u001b[0m\u001b[1;32m    852\u001b[0m         \u001b[0;32melse\u001b[0m\u001b[0;34m:\u001b[0m\u001b[0;34m\u001b[0m\u001b[0;34m\u001b[0m\u001b[0m\n\u001b[1;32m    853\u001b[0m             \u001b[0mself\u001b[0m\u001b[0;34m.\u001b[0m\u001b[0mvalid_parameters\u001b[0m \u001b[0;34m=\u001b[0m \u001b[0;32mFalse\u001b[0m\u001b[0;34m\u001b[0m\u001b[0;34m\u001b[0m\u001b[0m\n",
            "\u001b[0;31mValueError\u001b[0m: In PyGAD 2.20.0, the fitness function must accept 3 parameters:\n1) The instance of the 'pygad.GA' class.\n2) A solution to calculate its fitness value.\n3) The solution's index within the population.\n\nThe passed fitness function named 'fitness_func' accepts 2 parameter(s)."
          ]
        }
      ],
      "source": [
        "with tqdm(total=num_generations) as pbar:\n",
        "    ga_instance = pygad.GA(\n",
        "        num_generations=num_generations, # Number of generations to run the algorithm for\n",
        "        fitness_func=fitness_func, # The fitness function\n",
        "        num_genes=num_genes, # The number of genes\n",
        "        num_parents_mating=6, # The number of parents that will create offsprings in the next generation\n",
        "        sol_per_pop=pop_size, # The size of the population\n",
        "        gene_type=int, # Our genes are all integers\n",
        "        gene_space=list(range(number_of_nurses)), # Possible values for each gene\n",
        "        mutation_percent_genes=0.05, # Mutation rate\n",
        "        mutation_num_genes=2, # Number of gene to mutate\n",
        "        mutation_by_replacement=True,\n",
        "        on_generation=lambda _: pbar.update(1),\n",
        "    )\n",
        "    ga_instance.run()\n",
        "\n",
        "solution, fitness, _ = ga_instance.best_solution()\n",
        "print(f'Fitness of best solution: {fitness}')\n"
      ]
    },
    {
      "cell_type": "markdown",
      "metadata": {
        "id": "VBlBTGLrJN4B"
      },
      "source": [
        "## Reports"
      ]
    },
    {
      "cell_type": "code",
      "execution_count": 12,
      "metadata": {
        "colab": {
          "base_uri": "https://localhost:8080/",
          "height": 165
        },
        "id": "R2dsZwKzJN4B",
        "outputId": "668494a4-dbe7-49f8-d129-cc56f7c28d96"
      },
      "outputs": [
        {
          "output_type": "error",
          "ename": "NameError",
          "evalue": "ignored",
          "traceback": [
            "\u001b[0;31m---------------------------------------------------------------------------\u001b[0m",
            "\u001b[0;31mNameError\u001b[0m                                 Traceback (most recent call last)",
            "\u001b[0;32m<ipython-input-12-693cf3b197f2>\u001b[0m in \u001b[0;36m<cell line: 1>\u001b[0;34m()\u001b[0m\n\u001b[0;32m----> 1\u001b[0;31m \u001b[0mcost\u001b[0m\u001b[0;34m(\u001b[0m\u001b[0msolution\u001b[0m\u001b[0;34m,\u001b[0m \u001b[0mreport\u001b[0m\u001b[0;34m=\u001b[0m\u001b[0;32mTrue\u001b[0m\u001b[0;34m)\u001b[0m\u001b[0;34m\u001b[0m\u001b[0;34m\u001b[0m\u001b[0m\n\u001b[0m",
            "\u001b[0;31mNameError\u001b[0m: name 'solution' is not defined"
          ]
        }
      ],
      "source": [
        "cost(solution, report=True)"
      ]
    },
    {
      "cell_type": "code",
      "execution_count": 11,
      "metadata": {
        "colab": {
          "base_uri": "https://localhost:8080/",
          "height": 235
        },
        "id": "EqettgMwJN4B",
        "outputId": "294ff703-6147-445b-bf8d-be4018abc8a4"
      },
      "outputs": [
        {
          "output_type": "error",
          "ename": "NameError",
          "evalue": "ignored",
          "traceback": [
            "\u001b[0;31m---------------------------------------------------------------------------\u001b[0m",
            "\u001b[0;31mNameError\u001b[0m                                 Traceback (most recent call last)",
            "\u001b[0;32m<ipython-input-11-63f119177c09>\u001b[0m in \u001b[0;36m<cell line: 1>\u001b[0;34m()\u001b[0m\n\u001b[0;32m----> 1\u001b[0;31m solution = solution = solution.reshape(\n\u001b[0m\u001b[1;32m      2\u001b[0m     (\n\u001b[1;32m      3\u001b[0m         \u001b[0mnumber_of_days\u001b[0m\u001b[0;34m,\u001b[0m\u001b[0;34m\u001b[0m\u001b[0;34m\u001b[0m\u001b[0m\n\u001b[1;32m      4\u001b[0m         \u001b[0mnumber_of_shifts\u001b[0m\u001b[0;34m,\u001b[0m\u001b[0;34m\u001b[0m\u001b[0;34m\u001b[0m\u001b[0m\n\u001b[1;32m      5\u001b[0m         \u001b[0mnumber_of_bedrooms\u001b[0m\u001b[0;34m,\u001b[0m\u001b[0;34m\u001b[0m\u001b[0;34m\u001b[0m\u001b[0m\n",
            "\u001b[0;31mNameError\u001b[0m: name 'solution' is not defined"
          ]
        }
      ],
      "source": [
        "solution = solution = solution.reshape(\n",
        "    (\n",
        "        number_of_days,\n",
        "        number_of_shifts,\n",
        "        number_of_bedrooms,\n",
        "        number_of_nurses_per_room,\n",
        "    )\n",
        ")\n"
      ]
    },
    {
      "cell_type": "markdown",
      "metadata": {
        "id": "UZR5b-7JJN4B"
      },
      "source": [
        "### Daily Schedule"
      ]
    },
    {
      "cell_type": "code",
      "execution_count": null,
      "metadata": {
        "id": "p5Z8keiCJN4B",
        "outputId": "20c7dd89-4ced-42e1-a2ab-5bb8bd1b2256"
      },
      "outputs": [
        {
          "name": "stdout",
          "output_type": "stream",
          "text": [
            "Day 0\n",
            "  morning   bedroom 0 nurses: 13  7\n",
            "  morning   bedroom 1 nurses: 21  9\n",
            "  morning   bedroom 2 nurses:  5  3\n",
            "  morning   bedroom 3 nurses:  0 14\n",
            "  morning   bedroom 4 nurses: 15 23\n",
            "  afternoon bedroom 0 nurses: 11  3\n",
            "  afternoon bedroom 1 nurses:  6  8\n",
            "  afternoon bedroom 2 nurses:  0 20\n",
            "  afternoon bedroom 3 nurses: 16 12\n",
            "  afternoon bedroom 4 nurses: 18 10\n",
            "  night     bedroom 0 nurses:  7  1\n",
            "  night     bedroom 1 nurses: 18 14\n",
            "  night     bedroom 2 nurses: 12  8\n",
            "  night     bedroom 3 nurses: 13 17\n",
            "  night     bedroom 4 nurses:  2 22\n",
            "\n",
            "Day 1\n",
            "  morning   bedroom 0 nurses: 15  3\n",
            "  morning   bedroom 1 nurses: 23 19\n",
            "  morning   bedroom 2 nurses:  6 16\n",
            "  morning   bedroom 3 nurses: 21  9\n",
            "  morning   bedroom 4 nurses:  4  0\n",
            "  afternoon bedroom 0 nurses: 12 10\n",
            "  afternoon bedroom 1 nurses:  9 17\n",
            "  afternoon bedroom 2 nurses:  6 20\n",
            "  afternoon bedroom 3 nurses: 13  5\n",
            "  afternoon bedroom 4 nurses: 18  2\n",
            "  night     bedroom 0 nurses:  5 11\n",
            "  night     bedroom 1 nurses: 14 20\n",
            "  night     bedroom 2 nurses: 22  0\n",
            "  night     bedroom 3 nurses: 19  7\n",
            "  night     bedroom 4 nurses: 23  1\n",
            "\n",
            "Day 2\n",
            "  morning   bedroom 0 nurses:  6 12\n",
            "  morning   bedroom 1 nurses: 18  2\n",
            "  morning   bedroom 2 nurses:  3 17\n",
            "  morning   bedroom 3 nurses:  9 13\n",
            "  morning   bedroom 4 nurses:  8 10\n",
            "  afternoon bedroom 0 nurses: 13 19\n",
            "  afternoon bedroom 1 nurses:  8 16\n",
            "  afternoon bedroom 2 nurses:  5  1\n",
            "  afternoon bedroom 3 nurses: 17  7\n",
            "  afternoon bedroom 4 nurses: 14  4\n",
            "  night     bedroom 0 nurses: 15  1\n",
            "  night     bedroom 1 nurses: 19  5\n",
            "  night     bedroom 2 nurses: 23 11\n",
            "  night     bedroom 3 nurses:  9 21\n",
            "  night     bedroom 4 nurses:  4 22\n",
            "\n",
            "Day 3\n",
            "  morning   bedroom 0 nurses: 18  8\n",
            "  morning   bedroom 1 nurses:  3  7\n",
            "  morning   bedroom 2 nurses:  2 12\n",
            "  morning   bedroom 3 nurses: 20 10\n",
            "  morning   bedroom 4 nurses: 16  0\n",
            "  afternoon bedroom 0 nurses: 15  9\n",
            "  afternoon bedroom 1 nurses:  7 13\n",
            "  afternoon bedroom 2 nurses: 16 20\n",
            "  afternoon bedroom 3 nurses:  0 22\n",
            "  afternoon bedroom 4 nurses: 19  1\n",
            "  night     bedroom 0 nurses: 22 10\n",
            "  night     bedroom 1 nurses: 18 12\n",
            "  night     bedroom 2 nurses:  9 21\n",
            "  night     bedroom 3 nurses: 19 11\n",
            "  night     bedroom 4 nurses:  4  6\n",
            "\n",
            "Day 4\n",
            "  morning   bedroom 0 nurses: 23 13\n",
            "  morning   bedroom 1 nurses:  3  5\n",
            "  morning   bedroom 2 nurses: 17  7\n",
            "  morning   bedroom 3 nurses: 16  2\n",
            "  morning   bedroom 4 nurses:  1 15\n",
            "  afternoon bedroom 0 nurses: 11 15\n",
            "  afternoon bedroom 1 nurses: 23 21\n",
            "  afternoon bedroom 2 nurses: 10 22\n",
            "  afternoon bedroom 3 nurses: 14  6\n",
            "  afternoon bedroom 4 nurses:  2 18\n",
            "  night     bedroom 0 nurses:  4 22\n",
            "  night     bedroom 1 nurses: 21 13\n",
            "  night     bedroom 2 nurses:  3 19\n",
            "  night     bedroom 3 nurses: 20  6\n",
            "  night     bedroom 4 nurses: 16  8\n",
            "\n",
            "Day 5\n",
            "  morning   bedroom 0 nurses: 17 13\n",
            "  morning   bedroom 1 nurses: 15  5\n",
            "  morning   bedroom 2 nurses:  0 18\n",
            "  morning   bedroom 3 nurses:  7  1\n",
            "  morning   bedroom 4 nurses: 14  2\n",
            "  afternoon bedroom 0 nurses: 23 11\n",
            "  afternoon bedroom 1 nurses:  7  5\n",
            "  afternoon bedroom 2 nurses: 20  8\n",
            "  afternoon bedroom 3 nurses: 14  4\n",
            "  afternoon bedroom 4 nurses: 10 12\n",
            "  night     bedroom 0 nurses: 21 19\n",
            "  night     bedroom 1 nurses: 12 22\n",
            "  night     bedroom 2 nurses:  1 23\n",
            "  night     bedroom 3 nurses:  9 17\n",
            "  night     bedroom 4 nurses: 20 16\n",
            "\n",
            "Day 6\n",
            "  morning   bedroom 0 nurses:  2  4\n",
            "  morning   bedroom 1 nurses:  0 20\n",
            "  morning   bedroom 2 nurses: 11 21\n",
            "  morning   bedroom 3 nurses:  1 19\n",
            "  morning   bedroom 4 nurses:  8 14\n",
            "  afternoon bedroom 0 nurses:  3 17\n",
            "  afternoon bedroom 1 nurses:  8  2\n",
            "  afternoon bedroom 2 nurses: 16 10\n",
            "  afternoon bedroom 3 nurses: 22 12\n",
            "  afternoon bedroom 4 nurses:  9 15\n",
            "  night     bedroom 0 nurses: 10  4\n",
            "  night     bedroom 1 nurses: 23 11\n",
            "  night     bedroom 2 nurses: 14  6\n",
            "  night     bedroom 3 nurses: 15 17\n",
            "  night     bedroom 4 nurses:  5  3\n",
            "\n"
          ]
        }
      ],
      "source": [
        "# Output a schedule for each day\n",
        "\n",
        "for day in range(number_of_days):\n",
        "    print(\"Day\", day)\n",
        "    for shift in range(number_of_shifts):\n",
        "        for bedroom in range(number_of_bedrooms):\n",
        "            print(\n",
        "                \" \", \"{:9}\".format(SHIFTS[shift]), \"bedroom\", bedroom, \"nurses:\", end=\"\"\n",
        "            )\n",
        "            for n in range(number_of_nurses_per_room):\n",
        "                nurse = solution[day, shift, bedroom, n]\n",
        "                print(f\" {nurse:-2}\", end=\"\")\n",
        "            print()\n",
        "    print()\n"
      ]
    },
    {
      "cell_type": "markdown",
      "metadata": {
        "id": "Jx1MG9MyJN4B"
      },
      "source": [
        "### Per-nurse schedule\n",
        "\n",
        "The code below prints the solution from the point of view of each nurse."
      ]
    },
    {
      "cell_type": "code",
      "execution_count": null,
      "metadata": {
        "id": "1JN5K-geJN4C",
        "outputId": "999289ff-b9b4-417d-a9b1-9fda0e0d83ab"
      },
      "outputs": [
        {
          "name": "stdout",
          "output_type": "stream",
          "text": [
            "Nurse 0\n",
            " Day 0: morning 3 afternoon 2 night .\n",
            " Day 1: morning 4 afternoon . night 2\n",
            " Day 2: morning . afternoon . night .\n",
            " Day 3: morning 4 afternoon 3 night .\n",
            " Day 4: morning . afternoon . night .\n",
            " Day 5: morning 2 afternoon . night .\n",
            " Day 6: morning 1 afternoon . night .\n",
            "\n",
            "Nurse 1\n",
            " Day 0: morning . afternoon . night 0\n",
            " Day 1: morning . afternoon . night 4\n",
            " Day 2: morning . afternoon 2 night 0\n",
            " Day 3: morning . afternoon 4 night .\n",
            " Day 4: morning 4 afternoon . night .\n",
            " Day 5: morning 3 afternoon . night 2\n",
            " Day 6: morning 3 afternoon . night .\n",
            "\n",
            "Nurse 2\n",
            " Day 0: morning . afternoon . night 4\n",
            " Day 1: morning . afternoon 4 night .\n",
            " Day 2: morning 1 afternoon . night .\n",
            " Day 3: morning 2 afternoon . night .\n",
            " Day 4: morning 3 afternoon 4 night .\n",
            " Day 5: morning 4 afternoon . night .\n",
            " Day 6: morning 0 afternoon 1 night .\n",
            "\n",
            "Nurse 3\n",
            " Day 0: morning 2 afternoon 0 night .\n",
            " Day 1: morning 0 afternoon . night .\n",
            " Day 2: morning 2 afternoon . night .\n",
            " Day 3: morning 1 afternoon . night .\n",
            " Day 4: morning 1 afternoon . night 2\n",
            " Day 5: morning . afternoon . night .\n",
            " Day 6: morning . afternoon 0 night 4\n",
            "\n",
            "Nurse 4\n",
            " Day 0: morning . afternoon . night .\n",
            " Day 1: morning 4 afternoon . night .\n",
            " Day 2: morning . afternoon 4 night 4\n",
            " Day 3: morning . afternoon . night 4\n",
            " Day 4: morning . afternoon . night 0\n",
            " Day 5: morning . afternoon 3 night .\n",
            " Day 6: morning 0 afternoon . night 0\n",
            "\n",
            "Nurse 5\n",
            " Day 0: morning 2 afternoon . night .\n",
            " Day 1: morning . afternoon 3 night 0\n",
            " Day 2: morning . afternoon 2 night 1\n",
            " Day 3: morning . afternoon . night .\n",
            " Day 4: morning 1 afternoon . night .\n",
            " Day 5: morning 1 afternoon 1 night .\n",
            " Day 6: morning . afternoon . night 4\n",
            "\n",
            "Nurse 6\n",
            " Day 0: morning . afternoon 1 night .\n",
            " Day 1: morning 2 afternoon 2 night .\n",
            " Day 2: morning 0 afternoon . night .\n",
            " Day 3: morning . afternoon . night 4\n",
            " Day 4: morning . afternoon 3 night 3\n",
            " Day 5: morning . afternoon . night .\n",
            " Day 6: morning . afternoon . night 2\n",
            "\n",
            "Nurse 7\n",
            " Day 0: morning 0 afternoon . night 0\n",
            " Day 1: morning . afternoon . night 3\n",
            " Day 2: morning . afternoon 3 night .\n",
            " Day 3: morning 1 afternoon 1 night .\n",
            " Day 4: morning 2 afternoon . night .\n",
            " Day 5: morning 3 afternoon 1 night .\n",
            " Day 6: morning . afternoon . night .\n",
            "\n",
            "Nurse 8\n",
            " Day 0: morning . afternoon 1 night 2\n",
            " Day 1: morning . afternoon . night .\n",
            " Day 2: morning 4 afternoon 1 night .\n",
            " Day 3: morning 0 afternoon . night .\n",
            " Day 4: morning . afternoon . night 4\n",
            " Day 5: morning . afternoon 2 night .\n",
            " Day 6: morning 4 afternoon 1 night .\n",
            "\n",
            "Nurse 9\n",
            " Day 0: morning 1 afternoon . night .\n",
            " Day 1: morning 3 afternoon 1 night .\n",
            " Day 2: morning 3 afternoon . night 3\n",
            " Day 3: morning . afternoon 0 night 2\n",
            " Day 4: morning . afternoon . night .\n",
            " Day 5: morning . afternoon . night 3\n",
            " Day 6: morning . afternoon 4 night .\n",
            "\n",
            "Nurse 10\n",
            " Day 0: morning . afternoon 4 night .\n",
            " Day 1: morning . afternoon 0 night .\n",
            " Day 2: morning 4 afternoon . night .\n",
            " Day 3: morning 3 afternoon . night 0\n",
            " Day 4: morning . afternoon 2 night .\n",
            " Day 5: morning . afternoon 4 night .\n",
            " Day 6: morning . afternoon 2 night 0\n",
            "\n",
            "Nurse 11\n",
            " Day 0: morning . afternoon 0 night .\n",
            " Day 1: morning . afternoon . night 0\n",
            " Day 2: morning . afternoon . night 2\n",
            " Day 3: morning . afternoon . night 3\n",
            " Day 4: morning . afternoon 0 night .\n",
            " Day 5: morning . afternoon 0 night .\n",
            " Day 6: morning 2 afternoon . night 1\n",
            "\n",
            "Nurse 12\n",
            " Day 0: morning . afternoon 3 night 2\n",
            " Day 1: morning . afternoon 0 night .\n",
            " Day 2: morning 0 afternoon . night .\n",
            " Day 3: morning 2 afternoon . night 1\n",
            " Day 4: morning . afternoon . night .\n",
            " Day 5: morning . afternoon 4 night 1\n",
            " Day 6: morning . afternoon 3 night .\n",
            "\n",
            "Nurse 13\n",
            " Day 0: morning 0 afternoon . night 3\n",
            " Day 1: morning . afternoon 3 night .\n",
            " Day 2: morning 3 afternoon 0 night .\n",
            " Day 3: morning . afternoon 1 night .\n",
            " Day 4: morning 0 afternoon . night 1\n",
            " Day 5: morning 0 afternoon . night .\n",
            " Day 6: morning . afternoon . night .\n",
            "\n",
            "Nurse 14\n",
            " Day 0: morning 3 afternoon . night 1\n",
            " Day 1: morning . afternoon . night 1\n",
            " Day 2: morning . afternoon 4 night .\n",
            " Day 3: morning . afternoon . night .\n",
            " Day 4: morning . afternoon 3 night .\n",
            " Day 5: morning 4 afternoon 3 night .\n",
            " Day 6: morning 4 afternoon . night 2\n",
            "\n",
            "Nurse 15\n",
            " Day 0: morning 4 afternoon . night .\n",
            " Day 1: morning 0 afternoon . night .\n",
            " Day 2: morning . afternoon . night 0\n",
            " Day 3: morning . afternoon 0 night .\n",
            " Day 4: morning 4 afternoon 0 night .\n",
            " Day 5: morning 1 afternoon . night .\n",
            " Day 6: morning . afternoon 4 night 3\n",
            "\n",
            "Nurse 16\n",
            " Day 0: morning . afternoon 3 night .\n",
            " Day 1: morning 2 afternoon . night .\n",
            " Day 2: morning . afternoon 1 night .\n",
            " Day 3: morning 4 afternoon 2 night .\n",
            " Day 4: morning 3 afternoon . night 4\n",
            " Day 5: morning . afternoon . night 4\n",
            " Day 6: morning . afternoon 2 night .\n",
            "\n",
            "Nurse 17\n",
            " Day 0: morning . afternoon . night 3\n",
            " Day 1: morning . afternoon 1 night .\n",
            " Day 2: morning 2 afternoon 3 night .\n",
            " Day 3: morning . afternoon . night .\n",
            " Day 4: morning 2 afternoon . night .\n",
            " Day 5: morning 0 afternoon . night 3\n",
            " Day 6: morning . afternoon 0 night 3\n",
            "\n",
            "Nurse 18\n",
            " Day 0: morning . afternoon 4 night 1\n",
            " Day 1: morning . afternoon 4 night .\n",
            " Day 2: morning 1 afternoon . night .\n",
            " Day 3: morning 0 afternoon . night 1\n",
            " Day 4: morning . afternoon 4 night .\n",
            " Day 5: morning 2 afternoon . night .\n",
            " Day 6: morning . afternoon . night .\n",
            "\n",
            "Nurse 19\n",
            " Day 0: morning . afternoon . night .\n",
            " Day 1: morning 1 afternoon . night 3\n",
            " Day 2: morning . afternoon 0 night 1\n",
            " Day 3: morning . afternoon 4 night 3\n",
            " Day 4: morning . afternoon . night 2\n",
            " Day 5: morning . afternoon . night 0\n",
            " Day 6: morning 3 afternoon . night .\n",
            "\n",
            "Nurse 20\n",
            " Day 0: morning . afternoon 2 night .\n",
            " Day 1: morning . afternoon 2 night 1\n",
            " Day 2: morning . afternoon . night .\n",
            " Day 3: morning 3 afternoon 2 night .\n",
            " Day 4: morning . afternoon . night 3\n",
            " Day 5: morning . afternoon 2 night 4\n",
            " Day 6: morning 1 afternoon . night .\n",
            "\n",
            "Nurse 21\n",
            " Day 0: morning 1 afternoon . night .\n",
            " Day 1: morning 3 afternoon . night .\n",
            " Day 2: morning . afternoon . night 3\n",
            " Day 3: morning . afternoon . night 2\n",
            " Day 4: morning . afternoon 1 night 1\n",
            " Day 5: morning . afternoon . night 0\n",
            " Day 6: morning 2 afternoon . night .\n",
            "\n",
            "Nurse 22\n",
            " Day 0: morning . afternoon . night 4\n",
            " Day 1: morning . afternoon . night 2\n",
            " Day 2: morning . afternoon . night 4\n",
            " Day 3: morning . afternoon 3 night 0\n",
            " Day 4: morning . afternoon 2 night 0\n",
            " Day 5: morning . afternoon . night 1\n",
            " Day 6: morning . afternoon 3 night .\n",
            "\n",
            "Nurse 23\n",
            " Day 0: morning 4 afternoon . night .\n",
            " Day 1: morning 1 afternoon . night 4\n",
            " Day 2: morning . afternoon . night 2\n",
            " Day 3: morning . afternoon . night .\n",
            " Day 4: morning 0 afternoon 1 night .\n",
            " Day 5: morning . afternoon 0 night 2\n",
            " Day 6: morning . afternoon . night 1\n",
            "\n"
          ]
        }
      ],
      "source": [
        "# Output a schedule for each nurse\n",
        "\n",
        "# Reorganise the solution per nurse\n",
        "# `nurse_shifts` will contain a tuple (`day`, `shift`, `bedroom`)\n",
        "# for each nurse\n",
        "\n",
        "nurse_shifts = defaultdict(list) # \n",
        "for day in range(number_of_days):\n",
        "    for shift in range(number_of_shifts):\n",
        "        for bedroom in range(number_of_bedrooms):\n",
        "            for n in range(number_of_nurses_per_room):\n",
        "                nurse = solution[day, shift, bedroom, n]\n",
        "                nurse_shifts[nurse].append((day, shift, bedroom))\n",
        "\n",
        "# Output the results\n",
        "\n",
        "for nurse, shifts in sorted(nurse_shifts.items()):\n",
        "    print(\"Nurse\", nurse)\n",
        "    bedrooms = {}\n",
        "    for (day, shift, bedroom) in shifts:\n",
        "        bedrooms[(day, shift)] = bedroom\n",
        "\n",
        "    for day in range(number_of_days):\n",
        "        print(f\" Day {day}:\", end=\"\")\n",
        "        for shift in range(number_of_shifts):\n",
        "            bedroom = bedrooms.get((day, shift), \".\")\n",
        "            print(f\" {SHIFTS[shift]} {bedroom}\", end=\"\")\n",
        "        print()\n",
        "    print()\n"
      ]
    }
  ],
  "metadata": {
    "kernelspec": {
      "display_name": "Python 3 (ipykernel)",
      "language": "python",
      "name": "python3"
    },
    "language_info": {
      "codemirror_mode": {
        "name": "ipython",
        "version": 3
      },
      "file_extension": ".py",
      "mimetype": "text/x-python",
      "name": "python",
      "nbconvert_exporter": "python",
      "pygments_lexer": "ipython3",
      "version": "3.9.7"
    },
    "vscode": {
      "interpreter": {
        "hash": "b0fa6594d8f4cbf19f97940f81e996739fb7646882a419484c72d19e05852a7e"
      }
    },
    "colab": {
      "provenance": [],
      "include_colab_link": true
    }
  },
  "nbformat": 4,
  "nbformat_minor": 0
}